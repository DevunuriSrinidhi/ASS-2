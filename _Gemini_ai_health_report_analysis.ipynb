{
  "nbformat": 4,
  "nbformat_minor": 0,
  "metadata": {
    "colab": {
      "provenance": [],
      "authorship_tag": "ABX9TyPepuOc2A8aJe+TprbMd19B",
      "include_colab_link": true
    },
    "kernelspec": {
      "name": "python3",
      "display_name": "Python 3"
    },
    "language_info": {
      "name": "python"
    }
  },
  "cells": [
    {
      "cell_type": "markdown",
      "metadata": {
        "id": "view-in-github",
        "colab_type": "text"
      },
      "source": [
        "<a href=\"https://colab.research.google.com/github/DevunuriSrinidhi/ASS-2/blob/main/_Gemini_ai_health_report_analysis.ipynb\" target=\"_parent\"><img src=\"https://colab.research.google.com/assets/colab-badge.svg\" alt=\"Open In Colab\"/></a>"
      ]
    },
    {
      "cell_type": "code",
      "source": [
        "pip install PyPDF2"
      ],
      "metadata": {
        "colab": {
          "base_uri": "https://localhost:8080/"
        },
        "id": "umeLmwTWiRml",
        "outputId": "f7e95e71-5ba2-4eac-f378-c6116214ddf9"
      },
      "execution_count": 1,
      "outputs": [
        {
          "output_type": "stream",
          "name": "stdout",
          "text": [
            "Requirement already satisfied: PyPDF2 in /usr/local/lib/python3.11/dist-packages (3.0.1)\n"
          ]
        }
      ]
    },
    {
      "cell_type": "code",
      "execution_count": 2,
      "metadata": {
        "id": "WGTc1FIHh5YB"
      },
      "outputs": [],
      "source": [
        "from google.colab import userdata\n",
        "import google.generativeai as genai\n",
        "\n",
        "GOOGLE_API_KEY = userdata.get('GOOGLE_API_KEY')\n",
        "genai.configure(api_key=GOOGLE_API_KEY)"
      ]
    },
    {
      "cell_type": "code",
      "source": [
        "import PyPDF2\n",
        "def extract_text_from_pdf(pdf_path):\n",
        "    \"\"\"Extracts text from a given health report PDF using PyPDF2.\"\"\"\n",
        "    text = \"\"\n",
        "    with open(pdf_path, 'rb') as file:\n",
        "        reader = PyPDF2.PdfReader(file)\n",
        "        for page in reader.pages:\n",
        "            text += page.extract_text()+\"\\n\"\n",
        "    return text"
      ],
      "metadata": {
        "id": "ffzkqqORiPqt"
      },
      "execution_count": 3,
      "outputs": []
    },
    {
      "cell_type": "code",
      "source": [
        "def extract_health_insights(text):\n",
        "  \"\"\"Asks Gemini AI to extract key medical insights from the report.\"\"\"\n",
        "  model=genai.GenerativeModel(\"gemini-1.5-flash\")\n",
        "  prompt=f\"Extarct key insights from the following health report:\\n\\n{text}\"\n",
        "  response=model.generate_content(prompt)\n",
        "  return response.text\n",
        "pdf_file=\"health_report.pdf\"\n",
        "extracted_text=extract_text_from_pdf(pdf_file)\n",
        "insights=extract_health_insights(extracted_text)\n",
        "print(\"Key Insights:\\n\",insights)"
      ],
      "metadata": {
        "colab": {
          "base_uri": "https://localhost:8080/",
          "height": 488
        },
        "id": "CNoCm0emiZuk",
        "outputId": "6d1f80e5-e68d-4f5b-953d-e9174b9ddcd4"
      },
      "execution_count": 5,
      "outputs": [
        {
          "output_type": "stream",
          "name": "stdout",
          "text": [
            "Key Insights:\n",
            " The report shows results from several blood tests performed on Mr. Kishan Goud on February 1st, 2021.  Key insights include:\n",
            "\n",
            "**Infectious Disease Markers:**\n",
            "\n",
            "* **Widal Test:**  Elevated titers for *Salmonella Typhi* \"O\" (1:160) and \"H\" (1:80) suggest a possible past or present *Salmonella Typhi* infection (typhoid fever).  The reference range is significantly lower (1:20), indicating a positive result.  The titers for *Salmonella Paratyphi* \"A\" and \"B\" are within the normal range.\n",
            "* **Dengue Serology:** Negative for Dengue NS1 antigen, IgG, and IgM antibodies, ruling out a current or recent dengue fever infection.\n",
            "* **Malaria Test:** Negative for both *Plasmodium vivax* and *Plasmodium falciparum*, indicating no malaria infection.\n",
            "\n",
            "**Hematological Parameters:**\n",
            "\n",
            "* **Complete Blood Count (CBC):**  All values (Hemoglobin, RBC, WBC, Platelets, PCV) are within the normal range.  The differential count also shows normal percentages of neutrophils, lymphocytes, eosinophils, monocytes, and basophils.  The peripheral blood smear shows normal morphology.\n",
            "* **Erythrocyte Sedimentation Rate (ESR):** Elevated (26 mm/hr in the first hour and 52 mm/hr in the second hour).  This suggests inflammation or infection somewhere in the body. The elevated ESR is consistent with the Widal test results.\n",
            "\n",
            "**Biochemical Parameters:**\n",
            "\n",
            "* **Liver Function Tests (LFTs):**  All liver enzymes (bilirubin – total, direct, and indirect; alkaline phosphatase; SGOT; SGPT) and other liver function markers (total protein, albumin, globulin, A/G ratio) are within normal ranges.\n",
            "* **Renal Function Test:** Serum creatinine is within the normal range (0.8 mg/dl), indicating normal kidney function.\n",
            "* **Blood Glucose:** Random blood glucose is within the normal range.\n",
            "* **HbA1c:**  Within the normal non-diabetic range (5.4%), indicating good blood glucose control.\n",
            "* **Electrolytes:** Serum sodium is slightly low (122 mmol/l; normal 135-146 mmol/l), while potassium and chloride are within normal ranges.  The low sodium warrants further investigation.\n",
            "\n",
            "**Overall:**\n",
            "\n",
            "The most significant finding is the elevated Widal test titers suggestive of a *Salmonella Typhi* infection.  The elevated ESR supports the presence of an inflammatory process.  The low sodium warrants further assessment to rule out underlying causes.  All other tests, including those for dengue and malaria, were negative.  The patient's other blood work is mostly normal.  Further investigation might be needed to determine the cause of the elevated ESR and slightly low sodium.\n",
            "\n"
          ]
        }
      ]
    },
    {
      "cell_type": "code",
      "source": [
        "def summarize_health_report(text):\n",
        "  \"\"\"Summarizes the health report using Gemini AI.\"\"\"\n",
        "  model = genai.GenerativeModel(\"gemini-1.5-flash\")\n",
        "  prompt = f\"Summarize the following health report in a concise manner:\\n\\n{text}\"\n",
        "  response = model.generate_content(prompt)\n",
        "  return response.text\n",
        "\n",
        "summary = summarize_health_report(extracted_text)\n",
        "print(\"Summary:\\n\", summary)"
      ],
      "metadata": {
        "colab": {
          "base_uri": "https://localhost:8080/",
          "height": 89
        },
        "id": "VfOHvQzBk1kk",
        "outputId": "158ddb90-1ed1-4510-8aa5-fd7d3ac3cc2c"
      },
      "execution_count": 6,
      "outputs": [
        {
          "output_type": "stream",
          "name": "stdout",
          "text": [
            "Summary:\n",
            " Mr. Kishan Goud's (MR2100003157) blood tests on 01/02/2021 showed:  Elevated ESR (26/52 mm/hr),  Widal test results suggestive of past exposure to *Salmonella Typhi* (O 1:160, H 1:80), negative for dengue and malaria.  Complete blood count (CBC) was within normal limits, except for slightly low platelets (2.0 lakhs/cumm).  HbA1c was 5.4% (normal).  Liver function tests and serum electrolytes were mostly within normal ranges, except for slightly low serum sodium (122 mmol/l).\n",
            "\n"
          ]
        }
      ]
    },
    {
      "cell_type": "code",
      "source": [
        "def detect_abnormalities(text):\n",
        "  \"\"\"Analyzes lab test results and flags abnormal values.\"\"\"\n",
        "  model = genai.GenerativeModel(\"gemini-1.5-flash\")\n",
        "  prompt = f\"Analyze the lab test results in the following health report and flag abnormal values:\\n\\n{text}\"\n",
        "  response = model.generate_content(prompt)\n",
        "  return response.text\n",
        "\n",
        "abnormalities = detect_abnormalities(extracted_text)\n",
        "print(\"Potential Abnormalities:\\n\", abnormalities)"
      ],
      "metadata": {
        "colab": {
          "base_uri": "https://localhost:8080/",
          "height": 280
        },
        "id": "ahpQYkyQmqGN",
        "outputId": "7b2d794b-0eb9-4626-ef4c-e227979488bf"
      },
      "execution_count": 7,
      "outputs": [
        {
          "output_type": "stream",
          "name": "stdout",
          "text": [
            "Potential Abnormalities:\n",
            " Based on the provided lab results, the following values are outside the given biological reference ranges, indicating potential abnormalities:\n",
            "\n",
            "\n",
            "* **Widal Test:**  S. Typhi \"O\" (1:160) and S. Typhi \"H\" (1:80) are significantly higher than the reference range (1:20).  This suggests a possible *Salmonella Typhi* infection (typhoid fever), but further investigation and clinical correlation are needed for confirmation.  The high titers indicate a past or present infection.\n",
            "\n",
            "* **ESR (Erythrocyte Sedimentation Rate):** Both the 1st hour (26 mm/hr) and 2nd hour (52 mm/hr) ESR values are significantly elevated compared to the reference range (0-8 mm/hr for the 1st hour).  This indicates inflammation somewhere in the body, but doesn't pinpoint the cause; it could be related to infection, autoimmune disease, or other inflammatory processes.\n",
            "\n",
            "* **Serum Sodium:**  The serum sodium level (122 mmol/l) is below the reference range (135-146 mmol/l). This indicates hyponatremia (low sodium levels), which can have various causes including dehydration, kidney problems, or hormonal imbalances.  This is a significant finding requiring further evaluation.\n",
            "\n",
            "* **Serum Chloride:** The serum chloride level (97 mmol/l) is slightly below the lower limit of the reference range (98-107 mmol/l). While not severely low, it could be indicative of a minor electrolyte imbalance and warrants monitoring, especially in light of the hyponatremia.\n",
            "\n",
            "**Important Note:**  I am an AI and cannot give medical advice.  These flagged values are potential abnormalities and require interpretation by a qualified healthcare professional.  Mr. Kishan Goud should consult his physician or treating doctor to discuss these results and determine the appropriate next steps for diagnosis and treatment.  The context of the patient's symptoms and other clinical findings are crucial for accurate interpretation of these lab values.\n",
            "\n"
          ]
        }
      ]
    },
    {
      "cell_type": "code",
      "source": [
        "def explain_medical_terms(text):\n",
        "  \"\"\"Asks Gemini AI to simplify medical terms for patient understanding.\"\"\"\n",
        "  model = genai.GenerativeModel(\"gemini-1.5-flash\")\n",
        "  prompt = f\"Explain the medical terms in the following health report in simple language:\\n\\n{text}\"\n",
        "  response = model.generate_content(prompt)\n",
        "  return response.text\n",
        "\n",
        "explanation = explain_medical_terms(extracted_text)\n",
        "print(\"Simplified Explanation:\\n\", explanation)"
      ],
      "metadata": {
        "colab": {
          "base_uri": "https://localhost:8080/",
          "height": 853
        },
        "id": "fFGpV8zFoomy",
        "outputId": "0ee5ee72-b6e5-45f5-891a-2c3872380e61"
      },
      "execution_count": 8,
      "outputs": [
        {
          "output_type": "stream",
          "name": "stdout",
          "text": [
            "Simplified Explanation:\n",
            " This report shows the results of several blood tests performed on Mr. Kishan Goud. Let's break down the medical terms in simple language:\n",
            "\n",
            "**1. WIDAL TEST:** This test checks for antibodies against *Salmonella Typhi* and *Salmonella Paratyphi*, bacteria that cause typhoid fever and paratyphoid fever.  The numbers (e.g., 1:160, 1:80, 1:20) represent the dilution of the sample. Higher numbers suggest a higher likelihood of infection, but interpretation needs clinical context.  In this case, only S.Typhi \"O\" shows a result higher than the reference range.  It's not definitively conclusive of active typhoid.\n",
            "\n",
            "\n",
            "**2. DENGUE SEROLOGY:** This checks for dengue fever.  NS1 Antigen, IgG, and IgM are all negative. This means the tests didn't detect evidence of a current or past dengue infection.  Negative results are good news, indicating no dengue infection detected.\n",
            "\n",
            "**3. ESR (Erythrocyte Sedimentation Rate):** This measures how quickly red blood cells settle at the bottom of a test tube. A higher ESR can indicate inflammation or infection in the body. Mr. Goud's ESR is elevated (26 mm/hr in the first hour, 52 mm/hr in the second), suggesting possible inflammation.\n",
            "\n",
            "**4. RAPID MALARIA TEST:** This is a quick test to detect malaria parasites in the blood. Both *Plasmodium falciparum* (P.F) and *Plasmodium vivax* (P.V) are negative, meaning no malaria was detected.\n",
            "\n",
            "**5. COMPLETE BLOOD PICTURE (CBC):** This is a comprehensive blood test:\n",
            "\n",
            "* **Hemoglobin (Hb):**  Measures the amount of oxygen-carrying protein in the blood.  Mr. Goud's level (13.6 gms%) is within the normal range.\n",
            "* **RBC (Red Blood Cell count):** The number of red blood cells. His count (4.3 mill/cumm) is slightly low but within the range for some individuals.\n",
            "* **WBC (White Blood Cell count):**  The number of white blood cells (part of the immune system).  His count (7,200 cells/cumm) is within the normal range.\n",
            "* **Platelet count:**  These cells help with blood clotting. His count (2.0 lakhs/cumm) is within the normal range.\n",
            "* **PCV (Packed Cell Volume):** The percentage of red blood cells in the blood. His (40.5%) is within the normal range.\n",
            "* **Differential Count:** This breaks down the types of white blood cells. All are within normal limits.\n",
            "* **Peripheral Blood Smear:** Examination of the blood under a microscope;  results indicate normal red and white blood cell morphology and adequate platelets.\n",
            "\n",
            "\n",
            "**6. HbA1c:** This test measures average blood sugar levels over the past 2-3 months.  Mr. Goud's level (5.4%) falls within the normal range for someone who is not diabetic.\n",
            "\n",
            "**7. SERUM CREATININE:** This measures creatinine, a waste product from muscle breakdown, in the blood. It helps assess kidney function. His level (0.8 mg/dl) is within the normal range.\n",
            "\n",
            "**8. RANDOM BLOOD GLUCOSE:** This measures blood sugar at a random time. His level (not given in the report, only the range is given).\n",
            "\n",
            "**9. LIVER FUNCTION TEST (LFT):** These tests evaluate liver health:\n",
            "\n",
            "* **Total Bilirubin, Direct Bilirubin, Indirect Bilirubin:**  These are all pigments produced when red blood cells break down; elevated levels can indicate liver problems. Mr. Goud's levels are all within the normal range.\n",
            "* **Alkaline Phosphatase:** An enzyme found in the liver and bones; elevated levels may suggest liver or bone disease. Mr. Goud's level is within the normal range.\n",
            "* **SGOT (AST) and SGPT (ALT):**  Enzymes found in the liver; elevated levels can indicate liver damage.  Both are within the normal range.\n",
            "* **Total Protein and Albumin:** These are proteins in the blood; levels can indicate liver or kidney problems.  Both are within the normal range.\n",
            "* **Globulin:** Another blood protein; the ratio of albumin to globulin (A/G ratio) is also within the normal range.\n",
            "\n",
            "\n",
            "**10. SERUM ELECTROLYTES:** These tests measure the levels of essential minerals in the blood:\n",
            "\n",
            "* **Sodium:** Important for fluid balance.  Mr. Goud's level (122 mmol/l) is slightly low.\n",
            "* **Potassium:**  Important for muscle and nerve function.  His level (3.5 mmol/l) is at the lower end of the normal range.\n",
            "* **Chloride:** Important for fluid balance. His level (97 mmol/l) is also slightly low.\n",
            "\n",
            "\n",
            "**Important Note:** I am an AI and cannot give medical advice.  While this explanation clarifies the test results,  Mr. Goud should discuss these findings with his doctor, Dr. Krishna Prasad, for proper interpretation and medical guidance.  The slightly low sodium, potassium and chloride, and the elevated ESR warrant further investigation and discussion with his physician.\n",
            "\n"
          ]
        }
      ]
    },
    {
      "cell_type": "code",
      "source": [
        "def ask_gemini_about_report(text, question):\n",
        "  \"\"\"Allows users to ask questions about the health report.\"\"\"\n",
        "  model = genai.GenerativeModel(\"gemini-1.5-flash\")\n",
        "  prompt = f\"The following question about the health report:\\n\\n{text}\\n\\Answer the following question based on the report:\\n{question}\"\n",
        "  response = model.generate_content(prompt)\n",
        "  return response.text\n",
        "\n",
        "question = \"What is the patient's diagnosis?\"\n",
        "answer = ask_gemini_about_report(extracted_text, question)\n",
        "print(\"Answer:\\n\", answer)"
      ],
      "metadata": {
        "colab": {
          "base_uri": "https://localhost:8080/",
          "height": 89
        },
        "id": "RNkLYrayqZyB",
        "outputId": "c597e7b6-9b8d-4724-9e51-de84ed34d361"
      },
      "execution_count": 9,
      "outputs": [
        {
          "output_type": "stream",
          "name": "stdout",
          "text": [
            "Answer:\n",
            " The provided lab report does not offer a diagnosis.  It shows the results of various tests, some showing values outside of the normal range (e.g., elevated ESR), but this information alone is insufficient to make a diagnosis.  A diagnosis requires clinical evaluation by a physician considering the patient's symptoms, medical history, and these lab results in context.\n",
            "\n"
          ]
        }
      ]
    },
    {
      "cell_type": "code",
      "source": [],
      "metadata": {
        "id": "Pv2JXCLurrwd"
      },
      "execution_count": null,
      "outputs": []
    }
  ]
}