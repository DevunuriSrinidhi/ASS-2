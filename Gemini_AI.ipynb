{
  "nbformat": 4,
  "nbformat_minor": 0,
  "metadata": {
    "colab": {
      "provenance": [],
      "authorship_tag": "ABX9TyOy40hnEVGrhBdNhrvIPkML",
      "include_colab_link": true
    },
    "kernelspec": {
      "name": "python3",
      "display_name": "Python 3"
    },
    "language_info": {
      "name": "python"
    }
  },
  "cells": [
    {
      "cell_type": "markdown",
      "metadata": {
        "id": "view-in-github",
        "colab_type": "text"
      },
      "source": [
        "<a href=\"https://colab.research.google.com/github/DevunuriSrinidhi/ASS-2/blob/main/Gemini_AI.ipynb\" target=\"_parent\"><img src=\"https://colab.research.google.com/assets/colab-badge.svg\" alt=\"Open In Colab\"/></a>"
      ]
    },
    {
      "cell_type": "code",
      "execution_count": 1,
      "metadata": {
        "id": "m-_tiXaB9zzg"
      },
      "outputs": [],
      "source": [
        "import google.generativeai as genai\n",
        "from google.colab import userdata\n",
        "\n",
        "GOOGLE_API_KEY=userdata.get('GOOGLE_API_KEY')\n",
        "genai.configure(api_key=GOOGLE_API_KEY)"
      ]
    },
    {
      "cell_type": "code",
      "source": [
        "import pathlib\n",
        "import textwrap\n",
        "from IPython.display import Markdown, display\n",
        "def to_markdown(text):\n",
        "  text=text.replace('.','*')\n",
        "  return Markdown(textwrap.indent(text,' > ',predicate=lambda _:True))"
      ],
      "metadata": {
        "id": "8YAQVwA4-80N"
      },
      "execution_count": 2,
      "outputs": []
    },
    {
      "cell_type": "code",
      "source": [
        "import PIL.Image\n",
        "img=PIL.Image.open('/content/Image20250311122219.jpg')\n",
        "img\n",
        "model=genai.GenerativeModel('gemini-1.5-flash')\n",
        "response=model.generate_content([\"Write a short,engaging blog post based on this picture.\\nIt should include a description of the meal in the photo and talk about my journey meal prepping.\", img],\n",
        "stream=True)\n",
        "response.resolve()"
      ],
      "metadata": {
        "id": "ts712_uTA-ql"
      },
      "execution_count": 3,
      "outputs": []
    },
    {
      "cell_type": "code",
      "source": [
        "to_markdown(response.text)"
      ],
      "metadata": {
        "colab": {
          "base_uri": "https://localhost:8080/",
          "height": 434
        },
        "id": "pQ7nyYHGBemk",
        "outputId": "0e222421-8766-4d99-b5a7-482b1ff79f0e"
      },
      "execution_count": 4,
      "outputs": [
        {
          "output_type": "execute_result",
          "data": {
            "text/plain": [
              "<IPython.core.display.Markdown object>"
            ],
            "text/markdown": " > ## My Meal Prep Journey: From Chaos to Colorful Containers!\n > \n > Let's be honest, adulting is hard*  And finding the time and energy to cook healthy, delicious meals consistently?  Even harder!  For the longest time, my lunches were a sad affair of questionable takeout or whatever I could grab quickly*  That all changed when I decided to take the plunge into meal prepping*\n > \n > The picture shows the fruits (or should I say, *veggies*!) of my labor: two perfectly portioned containers filled with teriyaki chicken, fluffy white rice, vibrant red and orange carrots, and a generous helping of broccoli*  It's not just aesthetically pleasing; it's also incredibly satisfying to know I have a healthy, balanced meal ready to go whenever I need it*\n > \n > My journey hasn't been without its bumps*  My first attempts were*** ambitious*  Let's just say, my freezer became a graveyard of questionable concoctions* But I learned from my mistakes!  I started small, focusing on simple recipes and manageable portions* I also found that prepping on a Sunday afternoon, while listening to my favorite podcast, made the whole process much less daunting*\n > \n > The benefits?  Incredible!  I’ve saved money, eaten healthier, and actually *enjoyed* my lunches*  No more midday hunger pangs or frantic searches for something edible*  It's all about finding a system that works for you – whether it's prepping for the entire week or just a few days at a time*\n > \n > If you're thinking about starting your own meal prep journey, take a leap!  It's definitely worth it* And remember, even small steps forward contribute to a healthier, happier you*  What are your favorite meal prep tips?  Share them in the comments below!\n"
          },
          "metadata": {},
          "execution_count": 4
        }
      ]
    },
    {
      "cell_type": "code",
      "source": [
        "response = model.generate_content([\"Generate an accurate caption for this image.\",img])\n",
        "print(response.text)"
      ],
      "metadata": {
        "colab": {
          "base_uri": "https://localhost:8080/",
          "height": 332
        },
        "id": "W5z4QAyWDWK-",
        "outputId": "511d445e-5eb4-4e4c-f319-d8e3cf237462"
      },
      "execution_count": 5,
      "outputs": [
        {
          "output_type": "stream",
          "name": "stdout",
          "text": [
            "Here's a caption for the image:\n",
            "\n",
            "**Option 1 (Concise):**\n",
            "\n",
            "> Healthy and delicious meal prep!  Chicken and broccoli with rice.\n",
            "\n",
            "**Option 2 (More descriptive):**\n",
            "\n",
            "> Two containers of perfectly portioned chicken and vegetable stir-fry over rice.  Perfect for lunch or dinner meal prep!\n",
            "\n",
            "**Option 3 (Engaging):**\n",
            "\n",
            "> Goodbye takeout, hello healthy eating!  This easy chicken and broccoli stir-fry over rice is the perfect meal prep solution for busy weeks.  What's your favorite healthy meal prep recipe?\n",
            "\n",
            "\n",
            "Choose the option that best suits your needs and intended audience.\n",
            "\n"
          ]
        }
      ]
    },
    {
      "cell_type": "code",
      "source": [
        "from PIL import Image\n",
        "image_path = \"girl.jpg\"\n",
        "image = Image.open(image_path)\n",
        "response = model.generate_content([\"Describe this image in detail.\",image])\n",
        "print(response.text)"
      ],
      "metadata": {
        "colab": {
          "base_uri": "https://localhost:8080/",
          "height": 263
        },
        "id": "iuze3lTsDsES",
        "outputId": "06ada928-cf05-415a-9db0-a3b07eeb31da"
      },
      "execution_count": 6,
      "outputs": [
        {
          "output_type": "stream",
          "name": "stdout",
          "text": [
            "Here's a description of the image:\n",
            "\n",
            "Close-up view of a woman with shoulder-length, curly brown hair. \n",
            "\n",
            "\n",
            "She's smiling and gesturing with her right index finger, pointing to the left of the frame, suggesting she's indicating something off-camera. \n",
            "\n",
            "\n",
            "She's wearing a teal-colored, three-quarter sleeve top or kurta with a subtle gold print or pattern. The neckline is a simple, modest v-neck. \n",
            "\n",
            "\n",
            "The background is plain white, which keeps the focus entirely on the woman. Her expression is friendly and approachable, and she appears to be in a good mood. The lighting is soft and even, eliminating harsh shadows. The overall impression is one of a clean, well-lit portrait with a positive and engaging subject.\n",
            "\n"
          ]
        }
      ]
    },
    {
      "cell_type": "code",
      "source": [
        "response = model.generate_content([\"what emotions can you detect in this image?\",image])\n",
        "print(response.text)"
      ],
      "metadata": {
        "colab": {
          "base_uri": "https://localhost:8080/",
          "height": 54
        },
        "id": "6_hGAeTkFMaL",
        "outputId": "26a45d5e-46d4-4c59-99f2-9eb83d48f6d3"
      },
      "execution_count": 7,
      "outputs": [
        {
          "output_type": "stream",
          "name": "stdout",
          "text": [
            "The woman in the image appears to be expressing **confidence**, **friendliness**, and possibly **helpfulness** or **guidance**.  Her smile and the gesture of pointing suggest she's approachable and is perhaps directing attention to something.\n"
          ]
        }
      ]
    },
    {
      "cell_type": "code",
      "source": [
        "image_path = \"quote.jpg\"\n",
        "image = Image.open(image_path)\n",
        "response = model.generate_content([\"Describe this image in detail.\",image])\n",
        "print(response.text)"
      ],
      "metadata": {
        "id": "fm3TiX5tFqYD"
      },
      "execution_count": null,
      "outputs": []
    }
  ]
}